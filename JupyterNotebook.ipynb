{
 "cells": [
  {
   "cell_type": "markdown",
   "metadata": {},
   "source": [
    "# Basis for Jupyter Notebook"
   ]
  },
  {
   "cell_type": "markdown",
   "metadata": {},
   "source": [
    "## First of all\n",
    "With `Jupyter Notebook`, **all** operations can be performed using only the keyboard.\n",
    "\n",
    "At first, you should press `h`, then the list of **shortcut-key** shows."
   ]
  },
  {
   "cell_type": "markdown",
   "metadata": {},
   "source": [
    "## Mode\n",
    "Anyways, if you need help, press the `esc`, just like `vi editor`.\n",
    "\n",
    "That state is the **`command mode`**.\n",
    "\n",
    "In `command mode`, press the `Enter`, then switch to the **`edit mode`**.\n",
    "\n",
    "The shortcut key for the `command mode` is the upper half of the shortcut-key list that appears when you press `h`\n",
    "\n",
    ",and one for the `edit mode` is the rest."
   ]
  },
  {
   "cell_type": "markdown",
   "metadata": {},
   "source": [
    "## Edit Cells\n",
    "\n",
    "The operation to increase or decrease the cell is performed in the `command mode`.\n",
    "\n",
    "### insert\n",
    "`a`   insert cell above (`a` is a head of 'above')    \n",
    "`b`   insert cell below (`b` is a head of 'below')   \n",
    "\n",
    "### change\n",
    "You can press the `Enter` to the `edit mode` and edit it.\n",
    "\n",
    "### delete\n",
    "`dd`  delete selected cells (just like `vi`)    \n",
    "\n",
    "### undo delete\n",
    "`z`   undo cell deletion"
   ]
  },
  {
   "cell_type": "markdown",
   "metadata": {},
   "source": [
    "## Copy & Paste Cells\n",
    "\n",
    "Naturally, you can copy(or cut) cells and paste cells.\n",
    "\n",
    "### copy\n",
    "`c`    copy selected cells  \n",
    "\n",
    "### cut\n",
    "`x`    cut selected cells   \n",
    "\n",
    "### paste\n",
    "`Shift` + `v`    paste cells above  \n",
    "`v`              paste cells below  "
   ]
  },
  {
   "cell_type": "markdown",
   "metadata": {},
   "source": [
    "## What you wanna write?\n",
    "\n",
    "By default, you are prepared to write `code` when new cell is added.\n",
    "\n",
    "But sometimes, you may want to write the comment, memorandum, poem, policy in all of the cell.  \n",
    "\n",
    "In such cases, you can write words that you wanna by `Markdown`.\n",
    "\n",
    "In `command mode`, you can decide what to write in the cell by pressing the following keys.\n",
    "\n",
    "`m`    change cell to markdown  \n",
    "`y`    change cell to code  "
   ]
  }
 ],
 "metadata": {
  "kernelspec": {
   "display_name": "Python 3",
   "language": "python",
   "name": "python3"
  },
  "language_info": {
   "codemirror_mode": {
    "name": "ipython",
    "version": 3
   },
   "file_extension": ".py",
   "mimetype": "text/x-python",
   "name": "python",
   "nbconvert_exporter": "python",
   "pygments_lexer": "ipython3",
   "version": "3.7.2"
  },
  "varInspector": {
   "cols": {
    "lenName": 16,
    "lenType": 16,
    "lenVar": 40
   },
   "kernels_config": {
    "python": {
     "delete_cmd_postfix": "",
     "delete_cmd_prefix": "del ",
     "library": "var_list.py",
     "varRefreshCmd": "print(var_dic_list())"
    },
    "r": {
     "delete_cmd_postfix": ") ",
     "delete_cmd_prefix": "rm(",
     "library": "var_list.r",
     "varRefreshCmd": "cat(var_dic_list()) "
    }
   },
   "types_to_exclude": [
    "module",
    "function",
    "builtin_function_or_method",
    "instance",
    "_Feature"
   ],
   "window_display": false
  }
 },
 "nbformat": 4,
 "nbformat_minor": 2
}
